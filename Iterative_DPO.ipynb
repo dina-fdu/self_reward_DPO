{
 "cells": [
  {
   "cell_type": "code",
   "execution_count": null,
   "metadata": {},
   "outputs": [],
   "source": [
    "prompt = '''Review the user's question and the corresponding response using the additive 5-point\n",
    "scoring system described below. Points are accumulated based on the satisfaction of each\n",
    "criterion:\n",
    "- Add 1 point if the response is relevant and provides some information related to\n",
    "the user's inquiry, even if it is incomplete or contains some irrelevant content.\n",
    "- Add another point if the response addresses a substantial portion of the user's question,\n",
    "but does not completely resolve the query or provide a direct answer.\n",
    "- Award a third point if the response answers the basic elements of the user's question in a\n",
    "useful way, regardless of whether it seems to have been written by an AI Assistant or if it\n",
    "has elements typically found in blogs or search results.\n",
    "- Grant a fourth point if the response is clearly written from an AI Assistant's perspective,\n",
    "addressing the user's question directly and comprehensively, and is well-organized and\n",
    "helpful, even if there is slight room for improvement in clarity, conciseness or focus.\n",
    "- Bestow a fifth point for a response that is impeccably tailored to the user's question\n",
    "by an AI Assistant, without extraneous information, reflecting expert knowledge, and\n",
    "demonstrating a high-quality, engaging, and insightful answer.\n",
    "User: <INSTRUCTION_HERE>\n",
    "<response><RESPONSE_HERE></response>\n",
    "After examining the user's instruction and the response:\n",
    "- Briefly justify your total score, up to 100 words.\n",
    "- Conclude with the score using the format: “Score: <total points>”\n",
    "Remember to assess from the AI Assistant perspective, utilizing web search knowledge as\n",
    "necessary. To evaluate the response in alignment with this additive scoring model, we'll\n",
    "systematically attribute points based on the outlined criteria.'''"
   ]
  }
 ],
 "metadata": {
  "language_info": {
   "name": "python"
  }
 },
 "nbformat": 4,
 "nbformat_minor": 2
}
